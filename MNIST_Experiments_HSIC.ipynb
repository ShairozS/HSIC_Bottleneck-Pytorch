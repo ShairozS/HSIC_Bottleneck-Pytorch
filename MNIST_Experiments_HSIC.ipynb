{
 "cells": [
  {
   "cell_type": "code",
   "execution_count": 1,
   "id": "afb9e808-9acf-482c-8df5-d8395b1aca5e",
   "metadata": {},
   "outputs": [
    {
     "name": "stderr",
     "output_type": "stream",
     "text": [
      "C:\\Users\\shairozs\\.conda\\envs\\pytorch2\\Lib\\site-packages\\tqdm\\auto.py:21: TqdmWarning: IProgress not found. Please update jupyter and ipywidgets. See https://ipywidgets.readthedocs.io/en/stable/user_install.html\n",
      "  from .autonotebook import tqdm as notebook_tqdm\n"
     ]
    }
   ],
   "source": [
    "import os\n",
    "from Code.Trainers import HSICBottleneck\n",
    "from Code.Models import MLP, ChebyKAN, KAN\n",
    "from Code.Data import load_data\n",
    "from Code.Utils import show_result\n",
    "import time\n",
    "import torch; torch.manual_seed(1)\n",
    "from torch import optim"
   ]
  },
  {
   "cell_type": "markdown",
   "id": "a163c587-0307-4309-8c7d-2ef8d0d75ca1",
   "metadata": {},
   "source": [
    "### Load the MNIST Dataset\n",
    "---------------"
   ]
  },
  {
   "cell_type": "code",
   "execution_count": 2,
   "id": "8b46d8bf-4bf1-4360-af93-4cd3e28c6e1c",
   "metadata": {},
   "outputs": [],
   "source": [
    "batchsize = 128\n",
    "train_loader, test_loader = load_data(dataset = 'mnist', batchsize=batchsize)\n"
   ]
  },
  {
   "cell_type": "markdown",
   "id": "fb1b45dc-01f9-4e4f-9724-2b43a2499fcd",
   "metadata": {},
   "source": [
    "### Training an MLP with HSIC Bottleneck\n",
    "-----------------------------------------"
   ]
  },
  {
   "cell_type": "code",
   "execution_count": 3,
   "id": "30bedfaa-3c38-4630-97a6-a45408238f02",
   "metadata": {},
   "outputs": [
    {
     "name": "stdout",
     "output_type": "stream",
     "text": [
      "Model trainable parameters:  25914\n"
     ]
    }
   ],
   "source": [
    "device = \"cuda\"\n",
    "layer_sizes = [784, 32, 16]\n",
    "model = MLP(layer_sizes = layer_sizes, output_size = 10).to(device)\n",
    "epochs = 50\n",
    "print(\"Model trainable parameters: \", sum(p.numel() for p in model.parameters() if p.requires_grad))\n",
    "trainer = HSICBottleneck(model = model)"
   ]
  },
  {
   "cell_type": "code",
   "execution_count": 13,
   "id": "9fe384e9-0d7f-45ff-afb6-e4b5a77af9df",
   "metadata": {},
   "outputs": [
    {
     "name": "stdout",
     "output_type": "stream",
     "text": [
      "EPOCH 0. \t Training  ACC: 0.8361. \t Testing ACC: 0.8396\n",
      "EPOCH 2. \t Training  ACC: 0.8562. \t Testing ACC: 0.8643\n",
      "EPOCH 4. \t Training  ACC: 0.8802. \t Testing ACC: 0.8857\n",
      "EPOCH 6. \t Training  ACC: 0.8729. \t Testing ACC: 0.8766\n",
      "EPOCH 8. \t Training  ACC: 0.8887. \t Testing ACC: 0.8943\n",
      "EPOCH 10. \t Training  ACC: 0.8933. \t Testing ACC: 0.8967\n",
      "EPOCH 12. \t Training  ACC: 0.8972. \t Testing ACC: 0.9006\n",
      "EPOCH 14. \t Training  ACC: 0.9024. \t Testing ACC: 0.9029\n",
      "EPOCH 16. \t Training  ACC: 0.9042. \t Testing ACC: 0.9019\n",
      "EPOCH 18. \t Training  ACC: 0.9079. \t Testing ACC: 0.9097\n",
      "EPOCH 20. \t Training  ACC: 0.9127. \t Testing ACC: 0.9147\n",
      "EPOCH 22. \t Training  ACC: 0.9090. \t Testing ACC: 0.9105\n",
      "EPOCH 24. \t Training  ACC: 0.9159. \t Testing ACC: 0.9168\n",
      "EPOCH 26. \t Training  ACC: 0.9160. \t Testing ACC: 0.9118\n",
      "EPOCH 28. \t Training  ACC: 0.9195. \t Testing ACC: 0.9191\n",
      "EPOCH 30. \t Training  ACC: 0.9175. \t Testing ACC: 0.9187\n",
      "EPOCH 32. \t Training  ACC: 0.9196. \t Testing ACC: 0.9202\n",
      "EPOCH 34. \t Training  ACC: 0.9221. \t Testing ACC: 0.9227\n",
      "EPOCH 36. \t Training  ACC: 0.9244. \t Testing ACC: 0.9225\n",
      "EPOCH 38. \t Training  ACC: 0.9221. \t Testing ACC: 0.9214\n"
     ]
    },
    {
     "ename": "KeyboardInterrupt",
     "evalue": "",
     "output_type": "error",
     "traceback": [
      "\u001b[1;31m---------------------------------------------------------------------------\u001b[0m",
      "\u001b[1;31mKeyboardInterrupt\u001b[0m                         Traceback (most recent call last)",
      "Cell \u001b[1;32mIn[13], line 13\u001b[0m\n\u001b[0;32m      8\u001b[0m         trainer\u001b[38;5;241m.\u001b[39mtune_output(data\u001b[38;5;241m.\u001b[39mview(batchsize, \u001b[38;5;241m-\u001b[39m\u001b[38;5;241m1\u001b[39m)\u001b[38;5;241m.\u001b[39mto(device), target\u001b[38;5;241m.\u001b[39mto(device))\n\u001b[0;32m     10\u001b[0m     \u001b[38;5;28;01mif\u001b[39;00m epoch \u001b[38;5;241m%\u001b[39m \u001b[38;5;241m2\u001b[39m \u001b[38;5;241m==\u001b[39m \u001b[38;5;241m0\u001b[39m:\n\u001b[0;32m     11\u001b[0m         \u001b[38;5;66;03m#print(\"Input shape: \", data.shape)\u001b[39;00m\n\u001b[0;32m     12\u001b[0m         \u001b[38;5;66;03m#print(\"Target shape: \", target.shape)\u001b[39;00m\n\u001b[1;32m---> 13\u001b[0m         \u001b[43mshow_result\u001b[49m\u001b[43m(\u001b[49m\u001b[43mtrainer\u001b[49m\u001b[43m,\u001b[49m\u001b[43m \u001b[49m\u001b[43mtrain_loader\u001b[49m\u001b[43m,\u001b[49m\u001b[43m \u001b[49m\u001b[43mtest_loader\u001b[49m\u001b[43m,\u001b[49m\u001b[43m \u001b[49m\u001b[43mepoch\u001b[49m\u001b[43m,\u001b[49m\u001b[43m \u001b[49m\u001b[43mlogs\u001b[49m\u001b[43m,\u001b[49m\u001b[43m \u001b[49m\u001b[43mdevice\u001b[49m\u001b[43m)\u001b[49m\n\u001b[0;32m     14\u001b[0m         \u001b[38;5;66;03m#print(\"{:.2f}\".format(time.time()-start))\u001b[39;00m\n\u001b[0;32m     15\u001b[0m         \u001b[38;5;66;03m#start = time.time()\u001b[39;00m\n\u001b[0;32m     17\u001b[0m df \u001b[38;5;241m=\u001b[39m pd\u001b[38;5;241m.\u001b[39mDataFrame(logs)\n",
      "File \u001b[1;32m~\\Documents\\Projects\\HSIC_Bottleneck-Pytorch\\Code\\Utils\\misc.py:28\u001b[0m, in \u001b[0;36mshow_result\u001b[1;34m(hsic, train_loader, test_loader, epoch, logs, device)\u001b[0m\n\u001b[0;32m     26\u001b[0m     correct \u001b[38;5;241m+\u001b[39m\u001b[38;5;241m=\u001b[39m (pred[:,\u001b[38;5;241m0\u001b[39m] \u001b[38;5;241m==\u001b[39m target)\u001b[38;5;241m.\u001b[39mfloat()\u001b[38;5;241m.\u001b[39msum()\n\u001b[0;32m     27\u001b[0m     counts \u001b[38;5;241m+\u001b[39m\u001b[38;5;241m=\u001b[39m \u001b[38;5;28mlen\u001b[39m(pred)\n\u001b[1;32m---> 28\u001b[0m \u001b[43m\u001b[49m\u001b[38;5;28;43;01mfor\u001b[39;49;00m\u001b[43m \u001b[49m\u001b[43mbatch_idx\u001b[49m\u001b[43m,\u001b[49m\u001b[43m \u001b[49m\u001b[43m(\u001b[49m\u001b[43mdata\u001b[49m\u001b[43m,\u001b[49m\u001b[43m \u001b[49m\u001b[43mtarget\u001b[49m\u001b[43m)\u001b[49m\u001b[43m \u001b[49m\u001b[38;5;129;43;01min\u001b[39;49;00m\u001b[43m \u001b[49m\u001b[38;5;28;43menumerate\u001b[39;49m\u001b[43m(\u001b[49m\u001b[43mtest_loader\u001b[49m\u001b[43m)\u001b[49m\u001b[43m:\u001b[49m\u001b[43m \u001b[49m\n\u001b[0;32m     29\u001b[0m \u001b[43m    \u001b[49m\u001b[43moutput\u001b[49m\u001b[43m \u001b[49m\u001b[38;5;241;43m=\u001b[39;49m\u001b[43m \u001b[49m\u001b[43mhsic\u001b[49m\u001b[38;5;241;43m.\u001b[39;49m\u001b[43mmodel\u001b[49m\u001b[38;5;241;43m.\u001b[39;49m\u001b[43mforward\u001b[49m\u001b[43m(\u001b[49m\u001b[43mdata\u001b[49m\u001b[38;5;241;43m.\u001b[39;49m\u001b[43mview\u001b[49m\u001b[43m(\u001b[49m\u001b[43mdata\u001b[49m\u001b[38;5;241;43m.\u001b[39;49m\u001b[43msize\u001b[49m\u001b[43m(\u001b[49m\u001b[38;5;241;43m0\u001b[39;49m\u001b[43m)\u001b[49m\u001b[43m,\u001b[49m\u001b[43m \u001b[49m\u001b[38;5;241;43m-\u001b[39;49m\u001b[38;5;241;43m1\u001b[39;49m\u001b[43m)\u001b[49m\u001b[38;5;241;43m.\u001b[39;49m\u001b[43mto\u001b[49m\u001b[43m(\u001b[49m\u001b[43mdevice\u001b[49m\u001b[43m)\u001b[49m\u001b[43m)\u001b[49m\u001b[43m[\u001b[49m\u001b[38;5;241;43m0\u001b[39;49m\u001b[43m]\u001b[49m\u001b[38;5;241;43m.\u001b[39;49m\u001b[43mcpu\u001b[49m\u001b[43m(\u001b[49m\u001b[43m)\u001b[49m\n\u001b[0;32m     30\u001b[0m \u001b[43m    \u001b[49m\u001b[43mpred\u001b[49m\u001b[43m \u001b[49m\u001b[38;5;241;43m=\u001b[39;49m\u001b[43m \u001b[49m\u001b[43moutput\u001b[49m\u001b[38;5;241;43m.\u001b[39;49m\u001b[43margmax\u001b[49m\u001b[43m(\u001b[49m\u001b[43mdim\u001b[49m\u001b[38;5;241;43m=\u001b[39;49m\u001b[38;5;241;43m1\u001b[39;49m\u001b[43m,\u001b[49m\u001b[43m \u001b[49m\u001b[43mkeepdim\u001b[49m\u001b[38;5;241;43m=\u001b[39;49m\u001b[38;5;28;43;01mTrue\u001b[39;49;00m\u001b[43m)\u001b[49m\n",
      "File \u001b[1;32m~\\.conda\\envs\\pytorch2\\Lib\\site-packages\\torch\\utils\\data\\dataloader.py:631\u001b[0m, in \u001b[0;36m_BaseDataLoaderIter.__next__\u001b[1;34m(self)\u001b[0m\n\u001b[0;32m    628\u001b[0m \u001b[38;5;28;01mif\u001b[39;00m \u001b[38;5;28mself\u001b[39m\u001b[38;5;241m.\u001b[39m_sampler_iter \u001b[38;5;129;01mis\u001b[39;00m \u001b[38;5;28;01mNone\u001b[39;00m:\n\u001b[0;32m    629\u001b[0m     \u001b[38;5;66;03m# TODO(https://github.com/pytorch/pytorch/issues/76750)\u001b[39;00m\n\u001b[0;32m    630\u001b[0m     \u001b[38;5;28mself\u001b[39m\u001b[38;5;241m.\u001b[39m_reset()  \u001b[38;5;66;03m# type: ignore[call-arg]\u001b[39;00m\n\u001b[1;32m--> 631\u001b[0m data \u001b[38;5;241m=\u001b[39m \u001b[38;5;28;43mself\u001b[39;49m\u001b[38;5;241;43m.\u001b[39;49m\u001b[43m_next_data\u001b[49m\u001b[43m(\u001b[49m\u001b[43m)\u001b[49m\n\u001b[0;32m    632\u001b[0m \u001b[38;5;28mself\u001b[39m\u001b[38;5;241m.\u001b[39m_num_yielded \u001b[38;5;241m+\u001b[39m\u001b[38;5;241m=\u001b[39m \u001b[38;5;241m1\u001b[39m\n\u001b[0;32m    633\u001b[0m \u001b[38;5;28;01mif\u001b[39;00m \u001b[38;5;28mself\u001b[39m\u001b[38;5;241m.\u001b[39m_dataset_kind \u001b[38;5;241m==\u001b[39m _DatasetKind\u001b[38;5;241m.\u001b[39mIterable \u001b[38;5;129;01mand\u001b[39;00m \\\n\u001b[0;32m    634\u001b[0m         \u001b[38;5;28mself\u001b[39m\u001b[38;5;241m.\u001b[39m_IterableDataset_len_called \u001b[38;5;129;01mis\u001b[39;00m \u001b[38;5;129;01mnot\u001b[39;00m \u001b[38;5;28;01mNone\u001b[39;00m \u001b[38;5;129;01mand\u001b[39;00m \\\n\u001b[0;32m    635\u001b[0m         \u001b[38;5;28mself\u001b[39m\u001b[38;5;241m.\u001b[39m_num_yielded \u001b[38;5;241m>\u001b[39m \u001b[38;5;28mself\u001b[39m\u001b[38;5;241m.\u001b[39m_IterableDataset_len_called:\n",
      "File \u001b[1;32m~\\.conda\\envs\\pytorch2\\Lib\\site-packages\\torch\\utils\\data\\dataloader.py:1329\u001b[0m, in \u001b[0;36m_MultiProcessingDataLoaderIter._next_data\u001b[1;34m(self)\u001b[0m\n\u001b[0;32m   1326\u001b[0m     \u001b[38;5;28;01mreturn\u001b[39;00m \u001b[38;5;28mself\u001b[39m\u001b[38;5;241m.\u001b[39m_process_data(data)\n\u001b[0;32m   1328\u001b[0m \u001b[38;5;28;01massert\u001b[39;00m \u001b[38;5;129;01mnot\u001b[39;00m \u001b[38;5;28mself\u001b[39m\u001b[38;5;241m.\u001b[39m_shutdown \u001b[38;5;129;01mand\u001b[39;00m \u001b[38;5;28mself\u001b[39m\u001b[38;5;241m.\u001b[39m_tasks_outstanding \u001b[38;5;241m>\u001b[39m \u001b[38;5;241m0\u001b[39m\n\u001b[1;32m-> 1329\u001b[0m idx, data \u001b[38;5;241m=\u001b[39m \u001b[38;5;28;43mself\u001b[39;49m\u001b[38;5;241;43m.\u001b[39;49m\u001b[43m_get_data\u001b[49m\u001b[43m(\u001b[49m\u001b[43m)\u001b[49m\n\u001b[0;32m   1330\u001b[0m \u001b[38;5;28mself\u001b[39m\u001b[38;5;241m.\u001b[39m_tasks_outstanding \u001b[38;5;241m-\u001b[39m\u001b[38;5;241m=\u001b[39m \u001b[38;5;241m1\u001b[39m\n\u001b[0;32m   1331\u001b[0m \u001b[38;5;28;01mif\u001b[39;00m \u001b[38;5;28mself\u001b[39m\u001b[38;5;241m.\u001b[39m_dataset_kind \u001b[38;5;241m==\u001b[39m _DatasetKind\u001b[38;5;241m.\u001b[39mIterable:\n\u001b[0;32m   1332\u001b[0m     \u001b[38;5;66;03m# Check for _IterableDatasetStopIteration\u001b[39;00m\n",
      "File \u001b[1;32m~\\.conda\\envs\\pytorch2\\Lib\\site-packages\\torch\\utils\\data\\dataloader.py:1295\u001b[0m, in \u001b[0;36m_MultiProcessingDataLoaderIter._get_data\u001b[1;34m(self)\u001b[0m\n\u001b[0;32m   1291\u001b[0m     \u001b[38;5;66;03m# In this case, `self._data_queue` is a `queue.Queue`,. But we don't\u001b[39;00m\n\u001b[0;32m   1292\u001b[0m     \u001b[38;5;66;03m# need to call `.task_done()` because we don't use `.join()`.\u001b[39;00m\n\u001b[0;32m   1293\u001b[0m \u001b[38;5;28;01melse\u001b[39;00m:\n\u001b[0;32m   1294\u001b[0m     \u001b[38;5;28;01mwhile\u001b[39;00m \u001b[38;5;28;01mTrue\u001b[39;00m:\n\u001b[1;32m-> 1295\u001b[0m         success, data \u001b[38;5;241m=\u001b[39m \u001b[38;5;28;43mself\u001b[39;49m\u001b[38;5;241;43m.\u001b[39;49m\u001b[43m_try_get_data\u001b[49m\u001b[43m(\u001b[49m\u001b[43m)\u001b[49m\n\u001b[0;32m   1296\u001b[0m         \u001b[38;5;28;01mif\u001b[39;00m success:\n\u001b[0;32m   1297\u001b[0m             \u001b[38;5;28;01mreturn\u001b[39;00m data\n",
      "File \u001b[1;32m~\\.conda\\envs\\pytorch2\\Lib\\site-packages\\torch\\utils\\data\\dataloader.py:1133\u001b[0m, in \u001b[0;36m_MultiProcessingDataLoaderIter._try_get_data\u001b[1;34m(self, timeout)\u001b[0m\n\u001b[0;32m   1120\u001b[0m \u001b[38;5;28;01mdef\u001b[39;00m \u001b[38;5;21m_try_get_data\u001b[39m(\u001b[38;5;28mself\u001b[39m, timeout\u001b[38;5;241m=\u001b[39m_utils\u001b[38;5;241m.\u001b[39mMP_STATUS_CHECK_INTERVAL):\n\u001b[0;32m   1121\u001b[0m     \u001b[38;5;66;03m# Tries to fetch data from `self._data_queue` once for a given timeout.\u001b[39;00m\n\u001b[0;32m   1122\u001b[0m     \u001b[38;5;66;03m# This can also be used as inner loop of fetching without timeout, with\u001b[39;00m\n\u001b[1;32m   (...)\u001b[0m\n\u001b[0;32m   1130\u001b[0m     \u001b[38;5;66;03m# Returns a 2-tuple:\u001b[39;00m\n\u001b[0;32m   1131\u001b[0m     \u001b[38;5;66;03m#   (bool: whether successfully get data, any: data if successful else None)\u001b[39;00m\n\u001b[0;32m   1132\u001b[0m     \u001b[38;5;28;01mtry\u001b[39;00m:\n\u001b[1;32m-> 1133\u001b[0m         data \u001b[38;5;241m=\u001b[39m \u001b[38;5;28;43mself\u001b[39;49m\u001b[38;5;241;43m.\u001b[39;49m\u001b[43m_data_queue\u001b[49m\u001b[38;5;241;43m.\u001b[39;49m\u001b[43mget\u001b[49m\u001b[43m(\u001b[49m\u001b[43mtimeout\u001b[49m\u001b[38;5;241;43m=\u001b[39;49m\u001b[43mtimeout\u001b[49m\u001b[43m)\u001b[49m\n\u001b[0;32m   1134\u001b[0m         \u001b[38;5;28;01mreturn\u001b[39;00m (\u001b[38;5;28;01mTrue\u001b[39;00m, data)\n\u001b[0;32m   1135\u001b[0m     \u001b[38;5;28;01mexcept\u001b[39;00m \u001b[38;5;167;01mException\u001b[39;00m \u001b[38;5;28;01mas\u001b[39;00m e:\n\u001b[0;32m   1136\u001b[0m         \u001b[38;5;66;03m# At timeout and error, we manually check whether any worker has\u001b[39;00m\n\u001b[0;32m   1137\u001b[0m         \u001b[38;5;66;03m# failed. Note that this is the only mechanism for Windows to detect\u001b[39;00m\n\u001b[0;32m   1138\u001b[0m         \u001b[38;5;66;03m# worker failures.\u001b[39;00m\n",
      "File \u001b[1;32m~\\.conda\\envs\\pytorch2\\Lib\\multiprocessing\\queues.py:113\u001b[0m, in \u001b[0;36mQueue.get\u001b[1;34m(self, block, timeout)\u001b[0m\n\u001b[0;32m    111\u001b[0m \u001b[38;5;28;01mif\u001b[39;00m block:\n\u001b[0;32m    112\u001b[0m     timeout \u001b[38;5;241m=\u001b[39m deadline \u001b[38;5;241m-\u001b[39m time\u001b[38;5;241m.\u001b[39mmonotonic()\n\u001b[1;32m--> 113\u001b[0m     \u001b[38;5;28;01mif\u001b[39;00m \u001b[38;5;129;01mnot\u001b[39;00m \u001b[38;5;28;43mself\u001b[39;49m\u001b[38;5;241;43m.\u001b[39;49m\u001b[43m_poll\u001b[49m\u001b[43m(\u001b[49m\u001b[43mtimeout\u001b[49m\u001b[43m)\u001b[49m:\n\u001b[0;32m    114\u001b[0m         \u001b[38;5;28;01mraise\u001b[39;00m Empty\n\u001b[0;32m    115\u001b[0m \u001b[38;5;28;01melif\u001b[39;00m \u001b[38;5;129;01mnot\u001b[39;00m \u001b[38;5;28mself\u001b[39m\u001b[38;5;241m.\u001b[39m_poll():\n",
      "File \u001b[1;32m~\\.conda\\envs\\pytorch2\\Lib\\multiprocessing\\connection.py:257\u001b[0m, in \u001b[0;36m_ConnectionBase.poll\u001b[1;34m(self, timeout)\u001b[0m\n\u001b[0;32m    255\u001b[0m \u001b[38;5;28mself\u001b[39m\u001b[38;5;241m.\u001b[39m_check_closed()\n\u001b[0;32m    256\u001b[0m \u001b[38;5;28mself\u001b[39m\u001b[38;5;241m.\u001b[39m_check_readable()\n\u001b[1;32m--> 257\u001b[0m \u001b[38;5;28;01mreturn\u001b[39;00m \u001b[38;5;28;43mself\u001b[39;49m\u001b[38;5;241;43m.\u001b[39;49m\u001b[43m_poll\u001b[49m\u001b[43m(\u001b[49m\u001b[43mtimeout\u001b[49m\u001b[43m)\u001b[49m\n",
      "File \u001b[1;32m~\\.conda\\envs\\pytorch2\\Lib\\multiprocessing\\connection.py:346\u001b[0m, in \u001b[0;36mPipeConnection._poll\u001b[1;34m(self, timeout)\u001b[0m\n\u001b[0;32m    343\u001b[0m \u001b[38;5;28;01mif\u001b[39;00m (\u001b[38;5;28mself\u001b[39m\u001b[38;5;241m.\u001b[39m_got_empty_message \u001b[38;5;129;01mor\u001b[39;00m\n\u001b[0;32m    344\u001b[0m             _winapi\u001b[38;5;241m.\u001b[39mPeekNamedPipe(\u001b[38;5;28mself\u001b[39m\u001b[38;5;241m.\u001b[39m_handle)[\u001b[38;5;241m0\u001b[39m] \u001b[38;5;241m!=\u001b[39m \u001b[38;5;241m0\u001b[39m):\n\u001b[0;32m    345\u001b[0m     \u001b[38;5;28;01mreturn\u001b[39;00m \u001b[38;5;28;01mTrue\u001b[39;00m\n\u001b[1;32m--> 346\u001b[0m \u001b[38;5;28;01mreturn\u001b[39;00m \u001b[38;5;28mbool\u001b[39m(\u001b[43mwait\u001b[49m\u001b[43m(\u001b[49m\u001b[43m[\u001b[49m\u001b[38;5;28;43mself\u001b[39;49m\u001b[43m]\u001b[49m\u001b[43m,\u001b[49m\u001b[43m \u001b[49m\u001b[43mtimeout\u001b[49m\u001b[43m)\u001b[49m)\n",
      "File \u001b[1;32m~\\.conda\\envs\\pytorch2\\Lib\\multiprocessing\\connection.py:1084\u001b[0m, in \u001b[0;36mwait\u001b[1;34m(object_list, timeout)\u001b[0m\n\u001b[0;32m   1081\u001b[0m                 ready_objects\u001b[38;5;241m.\u001b[39madd(o)\n\u001b[0;32m   1082\u001b[0m                 timeout \u001b[38;5;241m=\u001b[39m \u001b[38;5;241m0\u001b[39m\n\u001b[1;32m-> 1084\u001b[0m     ready_handles \u001b[38;5;241m=\u001b[39m \u001b[43m_exhaustive_wait\u001b[49m\u001b[43m(\u001b[49m\u001b[43mwaithandle_to_obj\u001b[49m\u001b[38;5;241;43m.\u001b[39;49m\u001b[43mkeys\u001b[49m\u001b[43m(\u001b[49m\u001b[43m)\u001b[49m\u001b[43m,\u001b[49m\u001b[43m \u001b[49m\u001b[43mtimeout\u001b[49m\u001b[43m)\u001b[49m\n\u001b[0;32m   1085\u001b[0m \u001b[38;5;28;01mfinally\u001b[39;00m:\n\u001b[0;32m   1086\u001b[0m     \u001b[38;5;66;03m# request that overlapped reads stop\u001b[39;00m\n\u001b[0;32m   1087\u001b[0m     \u001b[38;5;28;01mfor\u001b[39;00m ov \u001b[38;5;129;01min\u001b[39;00m ov_list:\n",
      "File \u001b[1;32m~\\.conda\\envs\\pytorch2\\Lib\\multiprocessing\\connection.py:1016\u001b[0m, in \u001b[0;36m_exhaustive_wait\u001b[1;34m(handles, timeout)\u001b[0m\n\u001b[0;32m   1014\u001b[0m ready \u001b[38;5;241m=\u001b[39m []\n\u001b[0;32m   1015\u001b[0m \u001b[38;5;28;01mwhile\u001b[39;00m L:\n\u001b[1;32m-> 1016\u001b[0m     res \u001b[38;5;241m=\u001b[39m \u001b[43m_winapi\u001b[49m\u001b[38;5;241;43m.\u001b[39;49m\u001b[43mWaitForMultipleObjects\u001b[49m\u001b[43m(\u001b[49m\u001b[43mL\u001b[49m\u001b[43m,\u001b[49m\u001b[43m \u001b[49m\u001b[38;5;28;43;01mFalse\u001b[39;49;00m\u001b[43m,\u001b[49m\u001b[43m \u001b[49m\u001b[43mtimeout\u001b[49m\u001b[43m)\u001b[49m\n\u001b[0;32m   1017\u001b[0m     \u001b[38;5;28;01mif\u001b[39;00m res \u001b[38;5;241m==\u001b[39m WAIT_TIMEOUT:\n\u001b[0;32m   1018\u001b[0m         \u001b[38;5;28;01mbreak\u001b[39;00m\n",
      "\u001b[1;31mKeyboardInterrupt\u001b[0m: "
     ]
    }
   ],
   "source": [
    "logs = list()\n",
    "for epoch in range(epochs):\n",
    "    \n",
    "    trainer.model.train()\n",
    "    start = time.time()\n",
    "    for batch_idx, (data, target) in enumerate(train_loader):\n",
    "        data = data.view(batchsize, -1)\n",
    "        trainer.step(data.view(batchsize, -1).to(device), target.to(device))\n",
    "        trainer.tune_output(data.view(batchsize, -1).to(device), target.to(device))\n",
    "    end = time.time()\n",
    "    if epoch % 2 == 0:\n",
    "        show_result(trainer, train_loader, test_loader, epoch, logs, device)\n",
    "        logs[epoch//2].append(end-start)\n",
    "\n",
    "df = pd.DataFrame(logs)"
   ]
  },
  {
   "cell_type": "markdown",
   "id": "19544aa4-b8fc-4f4a-a793-58e168154adf",
   "metadata": {},
   "source": [
    "### Training a KAN with HSIC Bottleneck\n",
    "----------"
   ]
  },
  {
   "cell_type": "code",
   "execution_count": 7,
   "id": "051f0a07-becb-4774-ade8-6ce44041bfda",
   "metadata": {},
   "outputs": [
    {
     "name": "stdout",
     "output_type": "stream",
     "text": [
      "Model trainable parameters:  257600\n"
     ]
    }
   ],
   "source": [
    "device = \"cuda\"\n",
    "layer_sizes = [784, 32, 16]\n",
    "degree = 3\n",
    "#model = ChebyKAN(degree = degree, layer_sizes = layer_sizes, output_size = 10).to(device)\n",
    "model = KAN(degree = degree, layer_sizes = layer_sizes, output_size = 10).to(device)\n",
    "\n",
    "epochs = 50\n",
    "num_parameters = sum(p.numel() for p in model.parameters() if p.requires_grad); print(\"Model trainable parameters: \", num_parameters)\n",
    "lr = 0.001\n",
    "optimizer = optim.AdamW(model.parameters(), lr=lr)\n",
    "trainer = HSICBottleneck(model = model, optimizer = optimizer)\n"
   ]
  },
  {
   "cell_type": "code",
   "execution_count": 8,
   "id": "9fb5ff98-a410-4671-9672-ebc604c0a2c3",
   "metadata": {},
   "outputs": [
    {
     "name": "stdout",
     "output_type": "stream",
     "text": [
      "EPOCH 0. \t Training  ACC: 0.7527. \t Testing ACC: 0.7554\n",
      "EPOCH 2. \t Training  ACC: 0.8130. \t Testing ACC: 0.8208\n",
      "EPOCH 4. \t Training  ACC: 0.8202. \t Testing ACC: 0.8262\n",
      "EPOCH 6. \t Training  ACC: 0.8205. \t Testing ACC: 0.8282\n",
      "EPOCH 8. \t Training  ACC: 0.8209. \t Testing ACC: 0.8297\n",
      "EPOCH 10. \t Training  ACC: 0.8176. \t Testing ACC: 0.8282\n",
      "EPOCH 12. \t Training  ACC: 0.8214. \t Testing ACC: 0.8298\n",
      "EPOCH 14. \t Training  ACC: 0.8233. \t Testing ACC: 0.8288\n",
      "EPOCH 16. \t Training  ACC: 0.8327. \t Testing ACC: 0.8410\n",
      "EPOCH 18. \t Training  ACC: 0.8420. \t Testing ACC: 0.8480\n",
      "EPOCH 20. \t Training  ACC: 0.8505. \t Testing ACC: 0.8562\n",
      "EPOCH 22. \t Training  ACC: 0.8571. \t Testing ACC: 0.8600\n",
      "EPOCH 24. \t Training  ACC: 0.8602. \t Testing ACC: 0.8643\n",
      "EPOCH 26. \t Training  ACC: 0.8664. \t Testing ACC: 0.8703\n",
      "EPOCH 28. \t Training  ACC: 0.8718. \t Testing ACC: 0.8751\n",
      "EPOCH 30. \t Training  ACC: 0.8789. \t Testing ACC: 0.8794\n",
      "EPOCH 32. \t Training  ACC: 0.8786. \t Testing ACC: 0.8837\n",
      "EPOCH 34. \t Training  ACC: 0.8803. \t Testing ACC: 0.8848\n",
      "EPOCH 36. \t Training  ACC: 0.8838. \t Testing ACC: 0.8872\n",
      "EPOCH 38. \t Training  ACC: 0.8863. \t Testing ACC: 0.8896\n",
      "EPOCH 40. \t Training  ACC: 0.8870. \t Testing ACC: 0.8927\n",
      "EPOCH 42. \t Training  ACC: 0.8847. \t Testing ACC: 0.8888\n",
      "EPOCH 44. \t Training  ACC: 0.8862. \t Testing ACC: 0.8908\n",
      "EPOCH 46. \t Training  ACC: 0.8897. \t Testing ACC: 0.8921\n",
      "EPOCH 48. \t Training  ACC: 0.8891. \t Testing ACC: 0.8926\n"
     ]
    }
   ],
   "source": [
    "logs = list()\n",
    "for epoch in range(epochs):\n",
    "    \n",
    "    trainer.model.train()\n",
    "    start = time.time()\n",
    "    for batch_idx, (data, target) in enumerate(train_loader):\n",
    "        data = data.view(batchsize, -1)\n",
    "        trainer.step(data.view(batchsize, -1).to(device), target.to(device))\n",
    "        trainer.tune_output(data.view(batchsize, -1).to(device), target.to(device))\n",
    "    end = time.time()\n",
    "    if epoch % 2 == 0:\n",
    "        show_result(trainer, train_loader, test_loader, epoch, logs, device)\n",
    "        logs[epoch//2].append(end-start)\n"
   ]
  },
  {
   "cell_type": "code",
   "execution_count": 15,
   "id": "91f38991-4589-42cc-bebd-7483ae1f3ca2",
   "metadata": {},
   "outputs": [
    {
     "data": {
      "text/html": [
       "<div>\n",
       "<style scoped>\n",
       "    .dataframe tbody tr th:only-of-type {\n",
       "        vertical-align: middle;\n",
       "    }\n",
       "\n",
       "    .dataframe tbody tr th {\n",
       "        vertical-align: top;\n",
       "    }\n",
       "\n",
       "    .dataframe thead th {\n",
       "        text-align: right;\n",
       "    }\n",
       "</style>\n",
       "<table border=\"1\" class=\"dataframe\">\n",
       "  <thead>\n",
       "    <tr style=\"text-align: right;\">\n",
       "      <th></th>\n",
       "      <th>Epoch</th>\n",
       "      <th>Train_loss</th>\n",
       "      <th>Test_loss</th>\n",
       "      <th>Time</th>\n",
       "    </tr>\n",
       "  </thead>\n",
       "  <tbody>\n",
       "    <tr>\n",
       "      <th>0</th>\n",
       "      <td>0</td>\n",
       "      <td>0.33380073</td>\n",
       "      <td>0.32952723</td>\n",
       "      <td>14.609651</td>\n",
       "    </tr>\n",
       "    <tr>\n",
       "      <th>1</th>\n",
       "      <td>2</td>\n",
       "      <td>0.66524774</td>\n",
       "      <td>0.67147434</td>\n",
       "      <td>11.019556</td>\n",
       "    </tr>\n",
       "    <tr>\n",
       "      <th>2</th>\n",
       "      <td>4</td>\n",
       "      <td>0.7240418</td>\n",
       "      <td>0.73257214</td>\n",
       "      <td>11.181293</td>\n",
       "    </tr>\n",
       "    <tr>\n",
       "      <th>3</th>\n",
       "      <td>6</td>\n",
       "      <td>0.7516026</td>\n",
       "      <td>0.75971556</td>\n",
       "      <td>11.144553</td>\n",
       "    </tr>\n",
       "    <tr>\n",
       "      <th>4</th>\n",
       "      <td>8</td>\n",
       "      <td>0.7700654</td>\n",
       "      <td>0.7805489</td>\n",
       "      <td>11.175057</td>\n",
       "    </tr>\n",
       "  </tbody>\n",
       "</table>\n",
       "</div>"
      ],
      "text/plain": [
       "   Epoch  Train_loss   Test_loss       Time\n",
       "0      0  0.33380073  0.32952723  14.609651\n",
       "1      2  0.66524774  0.67147434  11.019556\n",
       "2      4   0.7240418  0.73257214  11.181293\n",
       "3      6   0.7516026  0.75971556  11.144553\n",
       "4      8   0.7700654   0.7805489  11.175057"
      ]
     },
     "execution_count": 15,
     "metadata": {},
     "output_type": "execute_result"
    }
   ],
   "source": [
    "import pandas as pd\n",
    "df = pd.DataFrame(logs); df.columns = ['Epoch', 'Train_loss', 'Test_loss', 'Time']; df.head()"
   ]
  },
  {
   "cell_type": "code",
   "execution_count": 16,
   "id": "e139ad18-4c99-4ddd-8609-1b2fdf502105",
   "metadata": {},
   "outputs": [],
   "source": [
    "experiment_name = 'MNIST_hsic_ChebyKAN_degree6'\n",
    "experiment_name += \"_lr_\" + str(lr) + \"_epochs_\" + str(epochs) + \"_parameters_\" + str(num_parameters) + \"_optimizer_\" + str(optimizer).split(\"(\")[0]\n",
    "\n",
    "df.to_csv(experiment_name)"
   ]
  },
  {
   "cell_type": "code",
   "execution_count": null,
   "id": "f929cb83-096f-4e56-98fa-f128f3dbd2af",
   "metadata": {},
   "outputs": [],
   "source": []
  }
 ],
 "metadata": {
  "kernelspec": {
   "display_name": "Python 3 (ipykernel)",
   "language": "python",
   "name": "python3"
  },
  "language_info": {
   "codemirror_mode": {
    "name": "ipython",
    "version": 3
   },
   "file_extension": ".py",
   "mimetype": "text/x-python",
   "name": "python",
   "nbconvert_exporter": "python",
   "pygments_lexer": "ipython3",
   "version": "3.12.3"
  }
 },
 "nbformat": 4,
 "nbformat_minor": 5
}
