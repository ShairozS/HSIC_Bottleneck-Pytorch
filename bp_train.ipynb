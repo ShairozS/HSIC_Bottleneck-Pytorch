{
 "cells": [
  {
   "cell_type": "code",
   "execution_count": 1,
   "id": "f6dd6151",
   "metadata": {},
   "outputs": [
    {
     "name": "stderr",
     "output_type": "stream",
     "text": [
      "C:\\Users\\shairozs\\.conda\\envs\\pytorch2\\Lib\\site-packages\\tqdm\\auto.py:21: TqdmWarning: IProgress not found. Please update jupyter and ipywidgets. See https://ipywidgets.readthedocs.io/en/stable/user_install.html\n",
      "  from .autonotebook import tqdm as notebook_tqdm\n"
     ]
    }
   ],
   "source": [
    "#coding=utf8\n",
    "\n",
    "from __future__ import division\n",
    "from __future__ import print_function\n",
    "from __future__ import absolute_import\n",
    "from __future__ import unicode_literals\n",
    "\n",
    "import torch\n",
    "from torch import nn, optim\n",
    "import torch.nn.functional as F\n",
    "import torchvision\n",
    "\n",
    "import numpy as np\n",
    "import matplotlib.pyplot as plt\n",
    "import pandas as pd\n",
    "import os, time, argparse\n",
    "\n",
    "from utils import *\n",
    "from models import *"
   ]
  },
  {
   "cell_type": "code",
   "execution_count": 4,
   "id": "cfc660bf",
   "metadata": {},
   "outputs": [],
   "source": [
    "class Backprop:\n",
    "\n",
    "    \n",
    "    def __init__(self, args):\n",
    "        if args.model == \"MLP\":\n",
    "            self.model  = MLP(args)\n",
    "        if args.model == \"signMLP\":\n",
    "            self.model  = signMLP(args)\n",
    "        if args.model == \"CNN\":\n",
    "            self.model  = CNN(args)\n",
    "        if args.model == \"VGG\":\n",
    "            self.model  = VGG(args)\n",
    "        if args.model == 'KAN':\n",
    "            self.model = MNISTChebyKAN()\n",
    "        \n",
    "        self.model.to(device)\n",
    "        self.batch_size = args.batchsize\n",
    "        self.lambda_0   = args.lambda_\n",
    "        self.sigma      = args.sigma_\n",
    "        self.last_linear = \"output_layer\"\n",
    "\n",
    "        \n",
    "        self.opt = optim.AdamW(self.model.parameters(), lr=0.001)\n",
    "#         self.opt = optim.SGD(self.model.parameters(), lr=0.001, momentum=0.9, weight_decay=0.01)\n",
    "        self.iter_loss1, self.iter_loss2, self.iter_loss3 = [], [], []\n",
    "        self.track_loss1, self.track_loss2, self.track_loss3 = [], [], []\n",
    "        \n",
    "        self.loss = args.loss\n",
    "        if self.loss == \"mse\": self.output_criterion = nn.MSELoss(y_pred, labels_float)\n",
    "        elif self.loss == \"CE\": self.output_criterion = nn.CrossEntropyLoss(y_pred, label)\n",
    "        \n",
    "    def step(self, input_data, labels):\n",
    "        self.opt.zero_grad()\n",
    "\n",
    "        labels_float = F.one_hot(labels, num_classes=10).float()\n",
    "        \n",
    "        y_pred, hidden_zs = self.model(input_data)\n",
    "\n",
    "        if self.loss == \"mse\": self.output_criterion = nn.MSELoss(y_pred, labels_float)\n",
    "        elif self.loss == \"CE\": self.output_criterion = nn.CrossEntropyLoss(y_pred, label)\n",
    "\n",
    "        loss = self.loss\n",
    "        loss.backward()\n",
    "        self.opt.step()\n",
    "        return(loss)\n"
   ]
  },
  {
   "cell_type": "code",
   "execution_count": 18,
   "id": "3a278138",
   "metadata": {
    "tags": []
   },
   "outputs": [
    {
     "name": "stdout",
     "output_type": "stream",
     "text": [
      "kan_results.csv\n",
      "Model trainable parameters:  128896\n"
     ]
    },
    {
     "name": "stderr",
     "output_type": "stream",
     "text": [
      "Exception ignored in: <function _MultiProcessingDataLoaderIter.__del__ at 0x0000022F064E5C60>\n",
      "Traceback (most recent call last):\n",
      "  File \"C:\\Users\\shairozs\\.conda\\envs\\pytorch2\\Lib\\site-packages\\torch\\utils\\data\\dataloader.py\", line 1479, in __del__\n",
      "    self._shutdown_workers()\n",
      "  File \"C:\\Users\\shairozs\\.conda\\envs\\pytorch2\\Lib\\site-packages\\torch\\utils\\data\\dataloader.py\", line 1443, in _shutdown_workers\n",
      "    w.join(timeout=_utils.MP_STATUS_CHECK_INTERVAL)\n",
      "  File \"C:\\Users\\shairozs\\.conda\\envs\\pytorch2\\Lib\\multiprocessing\\process.py\", line 149, in join\n",
      "    res = self._popen.wait(timeout)\n",
      "          ^^^^^^^^^^^^^^^^^^^^^^^^^\n",
      "  File \"C:\\Users\\shairozs\\.conda\\envs\\pytorch2\\Lib\\multiprocessing\\popen_spawn_win32.py\", line 112, in wait\n",
      "    res = _winapi.WaitForSingleObject(int(self._handle), msecs)\n",
      "          ^^^^^^^^^^^^^^^^^^^^^^^^^^^^^^^^^^^^^^^^^^^^^^^^^^^^^\n",
      "KeyboardInterrupt: \n"
     ]
    },
    {
     "ename": "KeyboardInterrupt",
     "evalue": "",
     "output_type": "error",
     "traceback": [
      "\u001b[1;31m---------------------------------------------------------------------------\u001b[0m",
      "\u001b[1;31mKeyboardInterrupt\u001b[0m                         Traceback (most recent call last)",
      "Cell \u001b[1;32mIn[18], line 41\u001b[0m\n\u001b[0;32m     39\u001b[0m \u001b[38;5;28;01mfor\u001b[39;00m epoch \u001b[38;5;129;01min\u001b[39;00m \u001b[38;5;28mrange\u001b[39m(\u001b[38;5;241m50\u001b[39m):\n\u001b[0;32m     40\u001b[0m     hsic\u001b[38;5;241m.\u001b[39mmodel\u001b[38;5;241m.\u001b[39mtrain()\n\u001b[1;32m---> 41\u001b[0m \u001b[43m    \u001b[49m\u001b[38;5;28;43;01mfor\u001b[39;49;00m\u001b[43m \u001b[49m\u001b[43mbatch_idx\u001b[49m\u001b[43m,\u001b[49m\u001b[43m \u001b[49m\u001b[43m(\u001b[49m\u001b[43mdata\u001b[49m\u001b[43m,\u001b[49m\u001b[43m \u001b[49m\u001b[43mtarget\u001b[49m\u001b[43m)\u001b[49m\u001b[43m \u001b[49m\u001b[38;5;129;43;01min\u001b[39;49;00m\u001b[43m \u001b[49m\u001b[38;5;28;43menumerate\u001b[39;49m\u001b[43m(\u001b[49m\u001b[43mtrain_loader\u001b[49m\u001b[43m)\u001b[49m\u001b[43m:\u001b[49m\n\u001b[0;32m     42\u001b[0m \u001b[43m        \u001b[49m\u001b[43mdata\u001b[49m\u001b[43m \u001b[49m\u001b[38;5;241;43m=\u001b[39;49m\u001b[43m \u001b[49m\u001b[43mdata\u001b[49m\u001b[38;5;241;43m.\u001b[39;49m\u001b[43mview\u001b[49m\u001b[43m(\u001b[49m\u001b[43margs\u001b[49m\u001b[38;5;241;43m.\u001b[39;49m\u001b[43mbatchsize\u001b[49m\u001b[43m,\u001b[49m\u001b[43m \u001b[49m\u001b[38;5;241;43m-\u001b[39;49m\u001b[38;5;241;43m1\u001b[39;49m\u001b[43m)\u001b[49m\n\u001b[0;32m     43\u001b[0m \u001b[43m        \u001b[49m\u001b[43mhsic\u001b[49m\u001b[38;5;241;43m.\u001b[39;49m\u001b[43mstep\u001b[49m\u001b[43m(\u001b[49m\u001b[43mdata\u001b[49m\u001b[38;5;241;43m.\u001b[39;49m\u001b[43mview\u001b[49m\u001b[43m(\u001b[49m\u001b[43margs\u001b[49m\u001b[38;5;241;43m.\u001b[39;49m\u001b[43mbatchsize\u001b[49m\u001b[43m,\u001b[49m\u001b[43m \u001b[49m\u001b[38;5;241;43m-\u001b[39;49m\u001b[38;5;241;43m1\u001b[39;49m\u001b[43m)\u001b[49m\u001b[38;5;241;43m.\u001b[39;49m\u001b[43mto\u001b[49m\u001b[43m(\u001b[49m\u001b[43mdevice\u001b[49m\u001b[43m)\u001b[49m\u001b[43m,\u001b[49m\u001b[43m \u001b[49m\u001b[43mtarget\u001b[49m\u001b[38;5;241;43m.\u001b[39;49m\u001b[43mto\u001b[49m\u001b[43m(\u001b[49m\u001b[43mdevice\u001b[49m\u001b[43m)\u001b[49m\u001b[43m)\u001b[49m\n",
      "File \u001b[1;32m~\\.conda\\envs\\pytorch2\\Lib\\site-packages\\torch\\utils\\data\\dataloader.py:631\u001b[0m, in \u001b[0;36m_BaseDataLoaderIter.__next__\u001b[1;34m(self)\u001b[0m\n\u001b[0;32m    628\u001b[0m \u001b[38;5;28;01mif\u001b[39;00m \u001b[38;5;28mself\u001b[39m\u001b[38;5;241m.\u001b[39m_sampler_iter \u001b[38;5;129;01mis\u001b[39;00m \u001b[38;5;28;01mNone\u001b[39;00m:\n\u001b[0;32m    629\u001b[0m     \u001b[38;5;66;03m# TODO(https://github.com/pytorch/pytorch/issues/76750)\u001b[39;00m\n\u001b[0;32m    630\u001b[0m     \u001b[38;5;28mself\u001b[39m\u001b[38;5;241m.\u001b[39m_reset()  \u001b[38;5;66;03m# type: ignore[call-arg]\u001b[39;00m\n\u001b[1;32m--> 631\u001b[0m data \u001b[38;5;241m=\u001b[39m \u001b[38;5;28;43mself\u001b[39;49m\u001b[38;5;241;43m.\u001b[39;49m\u001b[43m_next_data\u001b[49m\u001b[43m(\u001b[49m\u001b[43m)\u001b[49m\n\u001b[0;32m    632\u001b[0m \u001b[38;5;28mself\u001b[39m\u001b[38;5;241m.\u001b[39m_num_yielded \u001b[38;5;241m+\u001b[39m\u001b[38;5;241m=\u001b[39m \u001b[38;5;241m1\u001b[39m\n\u001b[0;32m    633\u001b[0m \u001b[38;5;28;01mif\u001b[39;00m \u001b[38;5;28mself\u001b[39m\u001b[38;5;241m.\u001b[39m_dataset_kind \u001b[38;5;241m==\u001b[39m _DatasetKind\u001b[38;5;241m.\u001b[39mIterable \u001b[38;5;129;01mand\u001b[39;00m \\\n\u001b[0;32m    634\u001b[0m         \u001b[38;5;28mself\u001b[39m\u001b[38;5;241m.\u001b[39m_IterableDataset_len_called \u001b[38;5;129;01mis\u001b[39;00m \u001b[38;5;129;01mnot\u001b[39;00m \u001b[38;5;28;01mNone\u001b[39;00m \u001b[38;5;129;01mand\u001b[39;00m \\\n\u001b[0;32m    635\u001b[0m         \u001b[38;5;28mself\u001b[39m\u001b[38;5;241m.\u001b[39m_num_yielded \u001b[38;5;241m>\u001b[39m \u001b[38;5;28mself\u001b[39m\u001b[38;5;241m.\u001b[39m_IterableDataset_len_called:\n",
      "File \u001b[1;32m~\\.conda\\envs\\pytorch2\\Lib\\site-packages\\torch\\utils\\data\\dataloader.py:1329\u001b[0m, in \u001b[0;36m_MultiProcessingDataLoaderIter._next_data\u001b[1;34m(self)\u001b[0m\n\u001b[0;32m   1326\u001b[0m     \u001b[38;5;28;01mreturn\u001b[39;00m \u001b[38;5;28mself\u001b[39m\u001b[38;5;241m.\u001b[39m_process_data(data)\n\u001b[0;32m   1328\u001b[0m \u001b[38;5;28;01massert\u001b[39;00m \u001b[38;5;129;01mnot\u001b[39;00m \u001b[38;5;28mself\u001b[39m\u001b[38;5;241m.\u001b[39m_shutdown \u001b[38;5;129;01mand\u001b[39;00m \u001b[38;5;28mself\u001b[39m\u001b[38;5;241m.\u001b[39m_tasks_outstanding \u001b[38;5;241m>\u001b[39m \u001b[38;5;241m0\u001b[39m\n\u001b[1;32m-> 1329\u001b[0m idx, data \u001b[38;5;241m=\u001b[39m \u001b[38;5;28;43mself\u001b[39;49m\u001b[38;5;241;43m.\u001b[39;49m\u001b[43m_get_data\u001b[49m\u001b[43m(\u001b[49m\u001b[43m)\u001b[49m\n\u001b[0;32m   1330\u001b[0m \u001b[38;5;28mself\u001b[39m\u001b[38;5;241m.\u001b[39m_tasks_outstanding \u001b[38;5;241m-\u001b[39m\u001b[38;5;241m=\u001b[39m \u001b[38;5;241m1\u001b[39m\n\u001b[0;32m   1331\u001b[0m \u001b[38;5;28;01mif\u001b[39;00m \u001b[38;5;28mself\u001b[39m\u001b[38;5;241m.\u001b[39m_dataset_kind \u001b[38;5;241m==\u001b[39m _DatasetKind\u001b[38;5;241m.\u001b[39mIterable:\n\u001b[0;32m   1332\u001b[0m     \u001b[38;5;66;03m# Check for _IterableDatasetStopIteration\u001b[39;00m\n",
      "File \u001b[1;32m~\\.conda\\envs\\pytorch2\\Lib\\site-packages\\torch\\utils\\data\\dataloader.py:1295\u001b[0m, in \u001b[0;36m_MultiProcessingDataLoaderIter._get_data\u001b[1;34m(self)\u001b[0m\n\u001b[0;32m   1291\u001b[0m     \u001b[38;5;66;03m# In this case, `self._data_queue` is a `queue.Queue`,. But we don't\u001b[39;00m\n\u001b[0;32m   1292\u001b[0m     \u001b[38;5;66;03m# need to call `.task_done()` because we don't use `.join()`.\u001b[39;00m\n\u001b[0;32m   1293\u001b[0m \u001b[38;5;28;01melse\u001b[39;00m:\n\u001b[0;32m   1294\u001b[0m     \u001b[38;5;28;01mwhile\u001b[39;00m \u001b[38;5;28;01mTrue\u001b[39;00m:\n\u001b[1;32m-> 1295\u001b[0m         success, data \u001b[38;5;241m=\u001b[39m \u001b[38;5;28;43mself\u001b[39;49m\u001b[38;5;241;43m.\u001b[39;49m\u001b[43m_try_get_data\u001b[49m\u001b[43m(\u001b[49m\u001b[43m)\u001b[49m\n\u001b[0;32m   1296\u001b[0m         \u001b[38;5;28;01mif\u001b[39;00m success:\n\u001b[0;32m   1297\u001b[0m             \u001b[38;5;28;01mreturn\u001b[39;00m data\n",
      "File \u001b[1;32m~\\.conda\\envs\\pytorch2\\Lib\\site-packages\\torch\\utils\\data\\dataloader.py:1133\u001b[0m, in \u001b[0;36m_MultiProcessingDataLoaderIter._try_get_data\u001b[1;34m(self, timeout)\u001b[0m\n\u001b[0;32m   1120\u001b[0m \u001b[38;5;28;01mdef\u001b[39;00m \u001b[38;5;21m_try_get_data\u001b[39m(\u001b[38;5;28mself\u001b[39m, timeout\u001b[38;5;241m=\u001b[39m_utils\u001b[38;5;241m.\u001b[39mMP_STATUS_CHECK_INTERVAL):\n\u001b[0;32m   1121\u001b[0m     \u001b[38;5;66;03m# Tries to fetch data from `self._data_queue` once for a given timeout.\u001b[39;00m\n\u001b[0;32m   1122\u001b[0m     \u001b[38;5;66;03m# This can also be used as inner loop of fetching without timeout, with\u001b[39;00m\n\u001b[1;32m   (...)\u001b[0m\n\u001b[0;32m   1130\u001b[0m     \u001b[38;5;66;03m# Returns a 2-tuple:\u001b[39;00m\n\u001b[0;32m   1131\u001b[0m     \u001b[38;5;66;03m#   (bool: whether successfully get data, any: data if successful else None)\u001b[39;00m\n\u001b[0;32m   1132\u001b[0m     \u001b[38;5;28;01mtry\u001b[39;00m:\n\u001b[1;32m-> 1133\u001b[0m         data \u001b[38;5;241m=\u001b[39m \u001b[38;5;28;43mself\u001b[39;49m\u001b[38;5;241;43m.\u001b[39;49m\u001b[43m_data_queue\u001b[49m\u001b[38;5;241;43m.\u001b[39;49m\u001b[43mget\u001b[49m\u001b[43m(\u001b[49m\u001b[43mtimeout\u001b[49m\u001b[38;5;241;43m=\u001b[39;49m\u001b[43mtimeout\u001b[49m\u001b[43m)\u001b[49m\n\u001b[0;32m   1134\u001b[0m         \u001b[38;5;28;01mreturn\u001b[39;00m (\u001b[38;5;28;01mTrue\u001b[39;00m, data)\n\u001b[0;32m   1135\u001b[0m     \u001b[38;5;28;01mexcept\u001b[39;00m \u001b[38;5;167;01mException\u001b[39;00m \u001b[38;5;28;01mas\u001b[39;00m e:\n\u001b[0;32m   1136\u001b[0m         \u001b[38;5;66;03m# At timeout and error, we manually check whether any worker has\u001b[39;00m\n\u001b[0;32m   1137\u001b[0m         \u001b[38;5;66;03m# failed. Note that this is the only mechanism for Windows to detect\u001b[39;00m\n\u001b[0;32m   1138\u001b[0m         \u001b[38;5;66;03m# worker failures.\u001b[39;00m\n",
      "File \u001b[1;32m~\\.conda\\envs\\pytorch2\\Lib\\multiprocessing\\queues.py:113\u001b[0m, in \u001b[0;36mQueue.get\u001b[1;34m(self, block, timeout)\u001b[0m\n\u001b[0;32m    111\u001b[0m \u001b[38;5;28;01mif\u001b[39;00m block:\n\u001b[0;32m    112\u001b[0m     timeout \u001b[38;5;241m=\u001b[39m deadline \u001b[38;5;241m-\u001b[39m time\u001b[38;5;241m.\u001b[39mmonotonic()\n\u001b[1;32m--> 113\u001b[0m     \u001b[38;5;28;01mif\u001b[39;00m \u001b[38;5;129;01mnot\u001b[39;00m \u001b[38;5;28;43mself\u001b[39;49m\u001b[38;5;241;43m.\u001b[39;49m\u001b[43m_poll\u001b[49m\u001b[43m(\u001b[49m\u001b[43mtimeout\u001b[49m\u001b[43m)\u001b[49m:\n\u001b[0;32m    114\u001b[0m         \u001b[38;5;28;01mraise\u001b[39;00m Empty\n\u001b[0;32m    115\u001b[0m \u001b[38;5;28;01melif\u001b[39;00m \u001b[38;5;129;01mnot\u001b[39;00m \u001b[38;5;28mself\u001b[39m\u001b[38;5;241m.\u001b[39m_poll():\n",
      "File \u001b[1;32m~\\.conda\\envs\\pytorch2\\Lib\\multiprocessing\\connection.py:257\u001b[0m, in \u001b[0;36m_ConnectionBase.poll\u001b[1;34m(self, timeout)\u001b[0m\n\u001b[0;32m    255\u001b[0m \u001b[38;5;28mself\u001b[39m\u001b[38;5;241m.\u001b[39m_check_closed()\n\u001b[0;32m    256\u001b[0m \u001b[38;5;28mself\u001b[39m\u001b[38;5;241m.\u001b[39m_check_readable()\n\u001b[1;32m--> 257\u001b[0m \u001b[38;5;28;01mreturn\u001b[39;00m \u001b[38;5;28;43mself\u001b[39;49m\u001b[38;5;241;43m.\u001b[39;49m\u001b[43m_poll\u001b[49m\u001b[43m(\u001b[49m\u001b[43mtimeout\u001b[49m\u001b[43m)\u001b[49m\n",
      "File \u001b[1;32m~\\.conda\\envs\\pytorch2\\Lib\\multiprocessing\\connection.py:346\u001b[0m, in \u001b[0;36mPipeConnection._poll\u001b[1;34m(self, timeout)\u001b[0m\n\u001b[0;32m    343\u001b[0m \u001b[38;5;28;01mif\u001b[39;00m (\u001b[38;5;28mself\u001b[39m\u001b[38;5;241m.\u001b[39m_got_empty_message \u001b[38;5;129;01mor\u001b[39;00m\n\u001b[0;32m    344\u001b[0m             _winapi\u001b[38;5;241m.\u001b[39mPeekNamedPipe(\u001b[38;5;28mself\u001b[39m\u001b[38;5;241m.\u001b[39m_handle)[\u001b[38;5;241m0\u001b[39m] \u001b[38;5;241m!=\u001b[39m \u001b[38;5;241m0\u001b[39m):\n\u001b[0;32m    345\u001b[0m     \u001b[38;5;28;01mreturn\u001b[39;00m \u001b[38;5;28;01mTrue\u001b[39;00m\n\u001b[1;32m--> 346\u001b[0m \u001b[38;5;28;01mreturn\u001b[39;00m \u001b[38;5;28mbool\u001b[39m(\u001b[43mwait\u001b[49m\u001b[43m(\u001b[49m\u001b[43m[\u001b[49m\u001b[38;5;28;43mself\u001b[39;49m\u001b[43m]\u001b[49m\u001b[43m,\u001b[49m\u001b[43m \u001b[49m\u001b[43mtimeout\u001b[49m\u001b[43m)\u001b[49m)\n",
      "File \u001b[1;32m~\\.conda\\envs\\pytorch2\\Lib\\multiprocessing\\connection.py:1084\u001b[0m, in \u001b[0;36mwait\u001b[1;34m(object_list, timeout)\u001b[0m\n\u001b[0;32m   1081\u001b[0m                 ready_objects\u001b[38;5;241m.\u001b[39madd(o)\n\u001b[0;32m   1082\u001b[0m                 timeout \u001b[38;5;241m=\u001b[39m \u001b[38;5;241m0\u001b[39m\n\u001b[1;32m-> 1084\u001b[0m     ready_handles \u001b[38;5;241m=\u001b[39m \u001b[43m_exhaustive_wait\u001b[49m\u001b[43m(\u001b[49m\u001b[43mwaithandle_to_obj\u001b[49m\u001b[38;5;241;43m.\u001b[39;49m\u001b[43mkeys\u001b[49m\u001b[43m(\u001b[49m\u001b[43m)\u001b[49m\u001b[43m,\u001b[49m\u001b[43m \u001b[49m\u001b[43mtimeout\u001b[49m\u001b[43m)\u001b[49m\n\u001b[0;32m   1085\u001b[0m \u001b[38;5;28;01mfinally\u001b[39;00m:\n\u001b[0;32m   1086\u001b[0m     \u001b[38;5;66;03m# request that overlapped reads stop\u001b[39;00m\n\u001b[0;32m   1087\u001b[0m     \u001b[38;5;28;01mfor\u001b[39;00m ov \u001b[38;5;129;01min\u001b[39;00m ov_list:\n",
      "File \u001b[1;32m~\\.conda\\envs\\pytorch2\\Lib\\multiprocessing\\connection.py:1016\u001b[0m, in \u001b[0;36m_exhaustive_wait\u001b[1;34m(handles, timeout)\u001b[0m\n\u001b[0;32m   1014\u001b[0m ready \u001b[38;5;241m=\u001b[39m []\n\u001b[0;32m   1015\u001b[0m \u001b[38;5;28;01mwhile\u001b[39;00m L:\n\u001b[1;32m-> 1016\u001b[0m     res \u001b[38;5;241m=\u001b[39m \u001b[43m_winapi\u001b[49m\u001b[38;5;241;43m.\u001b[39;49m\u001b[43mWaitForMultipleObjects\u001b[49m\u001b[43m(\u001b[49m\u001b[43mL\u001b[49m\u001b[43m,\u001b[49m\u001b[43m \u001b[49m\u001b[38;5;28;43;01mFalse\u001b[39;49;00m\u001b[43m,\u001b[49m\u001b[43m \u001b[49m\u001b[43mtimeout\u001b[49m\u001b[43m)\u001b[49m\n\u001b[0;32m   1017\u001b[0m     \u001b[38;5;28;01mif\u001b[39;00m res \u001b[38;5;241m==\u001b[39m WAIT_TIMEOUT:\n\u001b[0;32m   1018\u001b[0m         \u001b[38;5;28;01mbreak\u001b[39;00m\n",
      "\u001b[1;31mKeyboardInterrupt\u001b[0m: "
     ]
    }
   ],
   "source": [
    "if __name__ == \"__main__\":\n",
    "    \n",
    "    parser = argparse.ArgumentParser()\n",
    "    parser.add_argument('--dataset', type=str, default=\"mnist\")\n",
    "    parser.add_argument('--model', type=str, default=\"KAN\")\n",
    "    parser.add_argument('--loss', type=str, default=\"CE\")\n",
    "    parser.add_argument('--BP', type=int, default=0)\n",
    "    parser.add_argument('--HSIC', type=str, default=\"nHSIC\")\n",
    "    parser.add_argument('--kernel_x', type=str, default=\"rbf\", choices=[\"rbf\", \"student\"])\n",
    "    parser.add_argument('--kernel_h', type=str, default=\"rbf\", choices=[\"rbf\", \"student\"])\n",
    "    parser.add_argument('--kernel_y', type=str, default=\"student\", choices=[\"rbf\", \"student\"])\n",
    "    parser.add_argument('--sigma_', type=int, default=10)\n",
    "    parser.add_argument('--lambda_', type=int, default=100)\n",
    "    parser.add_argument('--batchsize', type=int, default=128)\n",
    "    parser.add_argument('--device', type=int, default=0)\n",
    "    parser.add_argument('--bn_affine', type=int, default=1)\n",
    "    parser.add_argument('--forward', type=str, default=\"n\", choices=[\"x\", \"h\", \"n\"])\n",
    "    \n",
    "    # Testing.\n",
    "    parser.add_argument('--Latinb', type=int, default=0, choices=[0, 1])\n",
    "    parser.add_argument('--Latinb_lambda', type=float, default=1.)\n",
    "    parser.add_argument('--Latinb_type', type=str, default=\"f\", choices=[\"f\", \"n\"])\n",
    "        \n",
    "    args, _ = parser.parse_known_args()\n",
    "    filename = 'kan_results.csv'#get_filename(args)\n",
    "    print(filename)\n",
    "    \n",
    "    torch.manual_seed(1)\n",
    "    device = \"cuda:{}\".format(args.device)\n",
    "    batch_size = args.batchsize\n",
    "    train_loader, test_loader = load_data(args)\n",
    "    \n",
    "    logs = list()\n",
    "    backprop = Backprop(args)\n",
    "    start = time.time()\n",
    "    get_loss = list()\n",
    "    print(\"Model trainable parameters: \", sum(p.numel() for p in hsic.model.parameters() if p.requires_grad))\n",
    "\n",
    "    for epoch in range(50):\n",
    "        hsic.model.train()\n",
    "        for batch_idx, (data, target) in enumerate(train_loader):\n",
    "            data = data.view(args.batchsize, -1)\n",
    "            loss = backprop.step(data.view(args.batchsize, -1).to(device), target.to(device))\n",
    "\n",
    "        if epoch % 2 == 0:\n",
    "            print(\"Input shape: \", data.shape)\n",
    "            print(\"Target shape: \", target.shape)\n",
    "            show_result(backprop, train_loader, test_loader, epoch, logs, device)\n",
    "            print(\"{:.2f}\".format(time.time()-start))\n",
    "            start = time.time()\n",
    "\n",
    "    txt_path = os.path.join(\".\\\\\", filename+\".csv\")\n",
    "    df = pd.DataFrame(logs)\n",
    "    #df.to_csv(txt_path,index=False)"
   ]
  },
  {
   "cell_type": "code",
   "execution_count": 10,
   "id": "72f1219a-f508-4731-8e31-594ebe62fd1a",
   "metadata": {},
   "outputs": [
    {
     "data": {
      "text/plain": [
       "'.\\\\kan_results.csv.csv'"
      ]
     },
     "execution_count": 10,
     "metadata": {},
     "output_type": "execute_result"
    }
   ],
   "source": [
    "txt_path"
   ]
  },
  {
   "cell_type": "code",
   "execution_count": 11,
   "id": "53d7d02f-b45b-45f6-b630-ca1d7e44e743",
   "metadata": {},
   "outputs": [
    {
     "name": "stdout",
     "output_type": "stream",
     "text": [
      "mlp_results\n",
      "EPOCH 0. \t Training  ACC: 0.9042. \t Testing ACC: 0.9103\n",
      "25.75\n",
      "EPOCH 2. \t Training  ACC: 0.9334. \t Testing ACC: 0.9342\n",
      "38.61\n",
      "EPOCH 4. \t Training  ACC: 0.9401. \t Testing ACC: 0.9400\n",
      "38.58\n",
      "EPOCH 6. \t Training  ACC: 0.9440. \t Testing ACC: 0.9486\n",
      "38.14\n",
      "EPOCH 8. \t Training  ACC: 0.9462. \t Testing ACC: 0.9470\n",
      "37.17\n",
      "EPOCH 10. \t Training  ACC: 0.9496. \t Testing ACC: 0.9490\n",
      "37.64\n",
      "EPOCH 12. \t Training  ACC: 0.9502. \t Testing ACC: 0.9494\n",
      "38.00\n",
      "EPOCH 14. \t Training  ACC: 0.9521. \t Testing ACC: 0.9523\n",
      "37.77\n",
      "EPOCH 16. \t Training  ACC: 0.9523. \t Testing ACC: 0.9500\n",
      "37.45\n",
      "EPOCH 18. \t Training  ACC: 0.9535. \t Testing ACC: 0.9526\n",
      "37.83\n",
      "EPOCH 20. \t Training  ACC: 0.9531. \t Testing ACC: 0.9516\n",
      "37.59\n",
      "EPOCH 22. \t Training  ACC: 0.9538. \t Testing ACC: 0.9497\n",
      "37.41\n",
      "EPOCH 24. \t Training  ACC: 0.9566. \t Testing ACC: 0.9544\n",
      "37.59\n",
      "EPOCH 26. \t Training  ACC: 0.9567. \t Testing ACC: 0.9541\n",
      "38.13\n",
      "EPOCH 28. \t Training  ACC: 0.9569. \t Testing ACC: 0.9552\n",
      "37.52\n",
      "EPOCH 30. \t Training  ACC: 0.9582. \t Testing ACC: 0.9572\n",
      "37.86\n",
      "EPOCH 32. \t Training  ACC: 0.9570. \t Testing ACC: 0.9526\n",
      "37.46\n",
      "EPOCH 34. \t Training  ACC: 0.9558. \t Testing ACC: 0.9530\n",
      "37.95\n",
      "EPOCH 36. \t Training  ACC: 0.9570. \t Testing ACC: 0.9548\n",
      "37.80\n",
      "EPOCH 38. \t Training  ACC: 0.9580. \t Testing ACC: 0.9533\n",
      "37.56\n",
      "EPOCH 40. \t Training  ACC: 0.9576. \t Testing ACC: 0.9559\n",
      "37.20\n",
      "EPOCH 42. \t Training  ACC: 0.9591. \t Testing ACC: 0.9563\n",
      "38.07\n",
      "EPOCH 44. \t Training  ACC: 0.9587. \t Testing ACC: 0.9565\n",
      "37.94\n",
      "EPOCH 46. \t Training  ACC: 0.9590. \t Testing ACC: 0.9562\n",
      "38.40\n",
      "EPOCH 48. \t Training  ACC: 0.9588. \t Testing ACC: 0.9587\n",
      "37.48\n"
     ]
    }
   ],
   "source": [
    "if __name__ == \"__main__\":\n",
    "    \n",
    "    parser = argparse.ArgumentParser()\n",
    "    parser.add_argument('--dataset', type=str, default=\"mnist\")\n",
    "    parser.add_argument('--model', type=str, default=\"MLP\")\n",
    "    parser.add_argument('--loss', type=str, default=\"CE\")\n",
    "    parser.add_argument('--BP', type=int, default=0)\n",
    "    parser.add_argument('--HSIC', type=str, default=\"nHSIC\")\n",
    "    parser.add_argument('--kernel_x', type=str, default=\"rbf\", choices=[\"rbf\", \"student\"])\n",
    "    parser.add_argument('--kernel_h', type=str, default=\"rbf\", choices=[\"rbf\", \"student\"])\n",
    "    parser.add_argument('--kernel_y', type=str, default=\"student\", choices=[\"rbf\", \"student\"])\n",
    "    parser.add_argument('--sigma_', type=int, default=10)\n",
    "    parser.add_argument('--lambda_', type=int, default=100)\n",
    "    parser.add_argument('--batchsize', type=int, default=128)\n",
    "    parser.add_argument('--device', type=int, default=0)\n",
    "    parser.add_argument('--bn_affine', type=int, default=1)\n",
    "    parser.add_argument('--forward', type=str, default=\"n\", choices=[\"x\", \"h\", \"n\"])\n",
    "    \n",
    "    # Testing.\n",
    "    parser.add_argument('--Latinb', type=int, default=0, choices=[0, 1])\n",
    "    parser.add_argument('--Latinb_lambda', type=float, default=1.)\n",
    "    parser.add_argument('--Latinb_type', type=str, default=\"f\", choices=[\"f\", \"n\"])\n",
    "        \n",
    "    args, _ = parser.parse_known_args()\n",
    "    filename = 'mlp_results'#get_filename(args)\n",
    "    print(filename)\n",
    "    \n",
    "    torch.manual_seed(1)\n",
    "    device = \"cuda:{}\".format(args.device)\n",
    "    batch_size = args.batchsize\n",
    "    train_loader, test_loader = load_data(args)\n",
    "    \n",
    "    logs = list()\n",
    "    hsic = HSICBottleneck(args)\n",
    "    start = time.time()\n",
    "    get_loss = list()\n",
    "    print(\"Model trainable parameters: \", sum(p.numel() for p in hsic.model.parameters() if p.requires_grad))\n",
    "    for epoch in range(50):\n",
    "        hsic.model.train()\n",
    "        for batch_idx, (data, target) in enumerate(train_loader):\n",
    "            data = data.view(args.batchsize, -1)\n",
    "            hsic.step(data.view(args.batchsize, -1).to(device), target.to(device))\n",
    "            hsic.tune_output(data.view(args.batchsize, -1).to(device), target.to(device))\n",
    "        if epoch % 2 == 0:\n",
    "            show_result(hsic, train_loader, test_loader, epoch, logs, device)\n",
    "            print(\"{:.2f}\".format(time.time()-start))\n",
    "            start = time.time()\n",
    "\n",
    "    txt_path = os.path.join(\".\\\\\", filename+\".csv\")\n",
    "    df = pd.DataFrame(logs)\n",
    "    \n",
    "    #df.to_csv(txt_path,index=False)"
   ]
  },
  {
   "cell_type": "code",
   "execution_count": 17,
   "id": "daf1b4e1-2903-449a-85a3-abf63d36e74a",
   "metadata": {},
   "outputs": [
    {
     "data": {
      "text/plain": [
       "252682"
      ]
     },
     "execution_count": 17,
     "metadata": {},
     "output_type": "execute_result"
    }
   ],
   "source": [
    "sum(p.numel() for p in hsic.model.parameters() if p.requires_grad)"
   ]
  }
 ],
 "metadata": {
  "kernelspec": {
   "display_name": "Python 3 (ipykernel)",
   "language": "python",
   "name": "python3"
  },
  "language_info": {
   "codemirror_mode": {
    "name": "ipython",
    "version": 3
   },
   "file_extension": ".py",
   "mimetype": "text/x-python",
   "name": "python",
   "nbconvert_exporter": "python",
   "pygments_lexer": "ipython3",
   "version": "3.12.3"
  }
 },
 "nbformat": 4,
 "nbformat_minor": 5
}
